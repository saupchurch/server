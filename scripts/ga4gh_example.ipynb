{
 "cells": [
  {
   "cell_type": "code",
   "execution_count": 1,
   "metadata": {
    "collapsed": true
   },
   "outputs": [],
   "source": [
    "from __future__ import print_function\n",
    "\n",
    "import ga4gh.client"
   ]
  },
  {
   "cell_type": "markdown",
   "metadata": {},
   "source": [
    "# GA4GH IPython Example Notebook"
   ]
  },
  {
   "cell_type": "markdown",
   "metadata": {},
   "source": [
    "This notebook provides an overview of how to call a the GA4GH reference server from an iPython notebook.  Before running this notebook:\n",
    "\n",
    "1. git clone https://github.com/ga4gh/server.git -b develop\n",
    "2. Download the example data (if $scripts/download\\_data.py$ doens't work, wget https://github.com/ga4gh/server/releases/download/data/ga4gh-example-data-v3.2.tar and tar -xvf in the server/ directory\n",
    "3. Launch an instance of the reference server on localhost (\"python server_dev.py\")\n",
    "\n",
    "Note: If you have trouble importing the `ga4gh` module, either symlink this notebook into the `/server` directory or add the path to the GA4GH development repo to your `PYTHONPATH`."
   ]
  },
  {
   "cell_type": "markdown",
   "metadata": {},
   "source": [
    "## Connect to GA4GH Server"
   ]
  },
  {
   "cell_type": "code",
   "execution_count": 2,
   "metadata": {
    "collapsed": false
   },
   "outputs": [],
   "source": [
    "baseURL = \"http://localhost:8000\"\n",
    "client = ga4gh.client.HttpClient(baseURL)"
   ]
  },
  {
   "cell_type": "markdown",
   "metadata": {},
   "source": [
    "Great! Now we can run calls to query ReferenceSets, References, Datasets, VariantSets, CallSets, Variants, ReadGroups, ReadGroupSets, & Reads. \n",
    "\n",
    "`Search` methods return generators. Here we will explictly create lists out of these objects to allow us to directly index into the list of instances that the query returned.\n",
    "\n",
    "Instances have a `toJsonDict` method that returns a dictionary representation of the object. We'll make use of this to examine the the underlying data structures."
   ]
  },
  {
   "cell_type": "markdown",
   "metadata": {},
   "source": [
    "## Search/Get ReferenceSets"
   ]
  },
  {
   "cell_type": "markdown",
   "metadata": {},
   "source": [
    "ReferenceSets are lists of References.  Think of them like the genome version (ie. grch37, hg19)."
   ]
  },
  {
   "cell_type": "code",
   "execution_count": 3,
   "metadata": {
    "collapsed": false
   },
   "outputs": [
    {
     "name": "stdout",
     "output_type": "stream",
     "text": [
      "ReferenceSets\n",
      "NCBI Taxon Id: 9606\n"
     ]
    }
   ],
   "source": [
    "referenceSets = list(client.searchReferenceSets())\n",
    "print(\"ReferenceSets\")\n",
    "for referenceSet in referenceSets:\n",
    "    print(\"NCBI Taxon Id: {}\".format(referenceSet.ncbiTaxonId))"
   ]
  },
  {
   "cell_type": "code",
   "execution_count": 4,
   "metadata": {
    "collapsed": false
   },
   "outputs": [
    {
     "data": {
      "text/plain": [
       "{u'assemblyId': u'TODO',\n",
       " u'description': u'TODO',\n",
       " u'id': u'R1JDaDM4LXN1YnNldA',\n",
       " u'isDerived': False,\n",
       " u'md5checksum': u'234ea63052f999c21c2bdb6f60e61038',\n",
       " u'name': u'GRCh38-subset',\n",
       " u'ncbiTaxonId': 9606,\n",
       " u'sourceAccessions': [],\n",
       " u'sourceURI': u'TODO'}"
      ]
     },
     "execution_count": 4,
     "metadata": {},
     "output_type": "execute_result"
    }
   ],
   "source": [
    "referenceSet = client.getReferenceSet(referenceSets[0].id)\n",
    "referenceSet.toJsonDict()"
   ]
  },
  {
   "cell_type": "markdown",
   "metadata": {},
   "source": [
    "## Search/Get References "
   ]
  },
  {
   "cell_type": "markdown",
   "metadata": {},
   "source": [
    "The References endpoints let you access the DNA sequences that make up the reference genome. The example dataset is from subsets of the first 3 chromosomes:"
   ]
  },
  {
   "cell_type": "code",
   "execution_count": 5,
   "metadata": {
    "collapsed": false
   },
   "outputs": [
    {
     "name": "stdout",
     "output_type": "stream",
     "text": [
      "References\n",
      "Name: 2, Length: 32403\n",
      "Name: 1, Length: 138395\n",
      "Name: 3, Length: 81617\n"
     ]
    }
   ],
   "source": [
    "references = list(client.searchReferences(referenceSet.id))\n",
    "print(\"References\")\n",
    "for reference in references:\n",
    "    print(\"Name: {}, Length: {}\".format(reference.name, reference.length))"
   ]
  },
  {
   "cell_type": "code",
   "execution_count": 6,
   "metadata": {
    "collapsed": false
   },
   "outputs": [
    {
     "data": {
      "text/plain": [
       "{u'id': u'R1JDaDM4LXN1YnNldDoy',\n",
       " u'isDerived': False,\n",
       " u'length': 32403,\n",
       " u'md5checksum': u'f513b7c19964e17092b55df262f62990',\n",
       " u'name': u'2',\n",
       " u'ncbiTaxonId': 9606,\n",
       " u'sourceAccessions': [u'CM000664.2.subset'],\n",
       " u'sourceDivergence': None,\n",
       " u'sourceURI': u'http://www.ebi.ac.uk/ena/data/view/CM000664.2%26range=0-32403&display=fasta'}"
      ]
     },
     "execution_count": 6,
     "metadata": {},
     "output_type": "execute_result"
    }
   ],
   "source": [
    "reference = client.getReference(references[0].id)\n",
    "reference.toJsonDict()"
   ]
  },
  {
   "cell_type": "markdown",
   "metadata": {},
   "source": [
    "In addition to fetching metadata about the reference, you can access the base sequence:"
   ]
  },
  {
   "cell_type": "code",
   "execution_count": 7,
   "metadata": {
    "collapsed": false
   },
   "outputs": [
    {
     "data": {
      "text/plain": [
       "u'CGTATCCCACACACCACACCCACACACCACACCCACACACACCCACACCCACACCCACACACACCACACCCACACACCACACCCACACCCACACACCACA'"
      ]
     },
     "execution_count": 7,
     "metadata": {},
     "output_type": "execute_result"
    }
   ],
   "source": [
    "client.listReferenceBases(references[0].id, start=10000, end=10100)"
   ]
  },
  {
   "cell_type": "markdown",
   "metadata": {},
   "source": [
    "## Search/Get Dataset\n",
    "\n",
    "Datasets are a collection of related data. In this example, we'll examine a collection of reads and variants."
   ]
  },
  {
   "cell_type": "code",
   "execution_count": 8,
   "metadata": {
    "collapsed": false
   },
   "outputs": [
    {
     "name": "stdout",
     "output_type": "stream",
     "text": [
      "Datasets\n",
      "Name: 1kg-p3-subset\n"
     ]
    }
   ],
   "source": [
    "datasets = list(client.searchDatasets())\n",
    "print(\"Datasets\")\n",
    "for dataset in datasets:\n",
    "    print(\"Name: {}\".format(dataset.name))"
   ]
  },
  {
   "cell_type": "code",
   "execution_count": 9,
   "metadata": {
    "collapsed": false
   },
   "outputs": [
    {
     "data": {
      "text/plain": [
       "{u'description': None, u'id': u'MWtnLXAzLXN1YnNldA', u'name': u'1kg-p3-subset'}"
      ]
     },
     "execution_count": 9,
     "metadata": {},
     "output_type": "execute_result"
    }
   ],
   "source": [
    "dataset = client.getDataset(datasets[0].id)\n",
    "dataset.toJsonDict()"
   ]
  },
  {
   "cell_type": "markdown",
   "metadata": {},
   "source": [
    "## Search/Get VariantSets\n",
    "\n",
    "VariantSets are a collection of variants and calls that are intended to be analyzed together."
   ]
  },
  {
   "cell_type": "code",
   "execution_count": 10,
   "metadata": {
    "collapsed": false
   },
   "outputs": [
    {
     "name": "stdout",
     "output_type": "stream",
     "text": [
      "VariantSets\n",
      "Name: mvncall\n"
     ]
    }
   ],
   "source": [
    "variantSets = list(client.searchVariantSets(dataset.id))\n",
    "print(\"VariantSets\")\n",
    "for variantSet in variantSets:\n",
    "    print(\"Name: {}\".format(variantSet.name))"
   ]
  },
  {
   "cell_type": "code",
   "execution_count": 11,
   "metadata": {
    "collapsed": false
   },
   "outputs": [
    {
     "data": {
      "text/plain": [
       "{u'datasetId': u'MWtnLXAzLXN1YnNldA',\n",
       " u'id': u'MWtnLXAzLXN1YnNldDptdm5jYWxs',\n",
       " u'metadata': [{u'description': u'',\n",
       "   u'id': u'MWtnLXAzLXN1YnNldDptdm5jYWxsOm1ldGFkYXRhOnZlcnNpb24',\n",
       "   u'info': {},\n",
       "   u'key': u'version',\n",
       "   u'number': u'1',\n",
       "   u'type': u'String',\n",
       "   u'value': u'VCFv4.1'},\n",
       "  {u'description': u'Confidence interval around END for imprecise variants',\n",
       "   u'id': u'MWtnLXAzLXN1YnNldDptdm5jYWxsOm1ldGFkYXRhOklORk8uQ0lFTkQ',\n",
       "   u'info': {},\n",
       "   u'key': u'INFO.CIEND',\n",
       "   u'number': u'2',\n",
       "   u'type': u'Integer',\n",
       "   u'value': u''},\n",
       "  {u'description': u'Confidence interval around POS for imprecise variants',\n",
       "   u'id': u'MWtnLXAzLXN1YnNldDptdm5jYWxsOm1ldGFkYXRhOklORk8uQ0lQT1M',\n",
       "   u'info': {},\n",
       "   u'key': u'INFO.CIPOS',\n",
       "   u'number': u'2',\n",
       "   u'type': u'Integer',\n",
       "   u'value': u''},\n",
       "  {u'description': u'Source call set.',\n",
       "   u'id': u'MWtnLXAzLXN1YnNldDptdm5jYWxsOm1ldGFkYXRhOklORk8uQ1M',\n",
       "   u'info': {},\n",
       "   u'key': u'INFO.CS',\n",
       "   u'number': u'1',\n",
       "   u'type': u'String',\n",
       "   u'value': u''},\n",
       "  {u'description': u'End coordinate of this variant',\n",
       "   u'id': u'MWtnLXAzLXN1YnNldDptdm5jYWxsOm1ldGFkYXRhOklORk8uRU5E',\n",
       "   u'info': {},\n",
       "   u'key': u'INFO.END',\n",
       "   u'number': u'1',\n",
       "   u'type': u'Integer',\n",
       "   u'value': u''},\n",
       "  {u'description': u'Imprecise structural variation',\n",
       "   u'id': u'MWtnLXAzLXN1YnNldDptdm5jYWxsOm1ldGFkYXRhOklORk8uSU1QUkVDSVNF',\n",
       "   u'info': {},\n",
       "   u'key': u'INFO.IMPRECISE',\n",
       "   u'number': u'0',\n",
       "   u'type': u'Flag',\n",
       "   u'value': u''},\n",
       "  {u'description': u'Merged calls.',\n",
       "   u'id': u'MWtnLXAzLXN1YnNldDptdm5jYWxsOm1ldGFkYXRhOklORk8uTUM',\n",
       "   u'info': {},\n",
       "   u'key': u'INFO.MC',\n",
       "   u'number': u'.',\n",
       "   u'type': u'String',\n",
       "   u'value': u''},\n",
       "  {u'description': u\"Mobile element info of the form NAME,START,END<POLARITY; If there is only 5' OR 3' support for this call, will be NULL NULL for START and END\",\n",
       "   u'id': u'MWtnLXAzLXN1YnNldDptdm5jYWxsOm1ldGFkYXRhOklORk8uTUVJTkZP',\n",
       "   u'info': {},\n",
       "   u'key': u'INFO.MEINFO',\n",
       "   u'number': u'4',\n",
       "   u'type': u'String',\n",
       "   u'value': u''},\n",
       "  {u'description': u'Mitochondrial end coordinate of inserted sequence',\n",
       "   u'id': u'MWtnLXAzLXN1YnNldDptdm5jYWxsOm1ldGFkYXRhOklORk8uTUVORA',\n",
       "   u'info': {},\n",
       "   u'key': u'INFO.MEND',\n",
       "   u'number': u'1',\n",
       "   u'type': u'Integer',\n",
       "   u'value': u''},\n",
       "  {u'description': u'Estimated length of mitochondrial insert',\n",
       "   u'id': u'MWtnLXAzLXN1YnNldDptdm5jYWxsOm1ldGFkYXRhOklORk8uTUxFTg',\n",
       "   u'info': {},\n",
       "   u'key': u'INFO.MLEN',\n",
       "   u'number': u'1',\n",
       "   u'type': u'Integer',\n",
       "   u'value': u''},\n",
       "  {u'description': u'Mitochondrial start coordinate of inserted sequence',\n",
       "   u'id': u'MWtnLXAzLXN1YnNldDptdm5jYWxsOm1ldGFkYXRhOklORk8uTVNUQVJU',\n",
       "   u'info': {},\n",
       "   u'key': u'INFO.MSTART',\n",
       "   u'number': u'1',\n",
       "   u'type': u'Integer',\n",
       "   u'value': u''},\n",
       "  {u'description': u'SV length. It is only calculated for structural variation MEIs. For other types of SVs; one may calculate the SV length by INFO:END-START+1, or by finding the difference between lengthes of REF and ALT alleles',\n",
       "   u'id': u'MWtnLXAzLXN1YnNldDptdm5jYWxsOm1ldGFkYXRhOklORk8uU1ZMRU4',\n",
       "   u'info': {},\n",
       "   u'key': u'INFO.SVLEN',\n",
       "   u'number': u'.',\n",
       "   u'type': u'Integer',\n",
       "   u'value': u''},\n",
       "  {u'description': u'Type of structural variant',\n",
       "   u'id': u'MWtnLXAzLXN1YnNldDptdm5jYWxsOm1ldGFkYXRhOklORk8uU1ZUWVBF',\n",
       "   u'info': {},\n",
       "   u'key': u'INFO.SVTYPE',\n",
       "   u'number': u'1',\n",
       "   u'type': u'String',\n",
       "   u'value': u''},\n",
       "  {u'description': u'Precise Target Site Duplication for bases, if unknown, value will be NULL',\n",
       "   u'id': u'MWtnLXAzLXN1YnNldDptdm5jYWxsOm1ldGFkYXRhOklORk8uVFNE',\n",
       "   u'info': {},\n",
       "   u'key': u'INFO.TSD',\n",
       "   u'number': u'1',\n",
       "   u'type': u'String',\n",
       "   u'value': u''},\n",
       "  {u'description': u'Total number of alternate alleles in called genotypes',\n",
       "   u'id': u'MWtnLXAzLXN1YnNldDptdm5jYWxsOm1ldGFkYXRhOklORk8uQUM',\n",
       "   u'info': {},\n",
       "   u'key': u'INFO.AC',\n",
       "   u'number': u'A',\n",
       "   u'type': u'Integer',\n",
       "   u'value': u''},\n",
       "  {u'description': u'Estimated allele frequency in the range (0,1)',\n",
       "   u'id': u'MWtnLXAzLXN1YnNldDptdm5jYWxsOm1ldGFkYXRhOklORk8uQUY',\n",
       "   u'info': {},\n",
       "   u'key': u'INFO.AF',\n",
       "   u'number': u'A',\n",
       "   u'type': u'Float',\n",
       "   u'value': u''},\n",
       "  {u'description': u'Number of samples with data',\n",
       "   u'id': u'MWtnLXAzLXN1YnNldDptdm5jYWxsOm1ldGFkYXRhOklORk8uTlM',\n",
       "   u'info': {},\n",
       "   u'key': u'INFO.NS',\n",
       "   u'number': u'1',\n",
       "   u'type': u'Integer',\n",
       "   u'value': u''},\n",
       "  {u'description': u'Total number of alleles in called genotypes',\n",
       "   u'id': u'MWtnLXAzLXN1YnNldDptdm5jYWxsOm1ldGFkYXRhOklORk8uQU4',\n",
       "   u'info': {},\n",
       "   u'key': u'INFO.AN',\n",
       "   u'number': u'1',\n",
       "   u'type': u'Integer',\n",
       "   u'value': u''},\n",
       "  {u'description': u'Allele frequency in the EAS populations calculated from AC and AN, in the range (0,1)',\n",
       "   u'id': u'MWtnLXAzLXN1YnNldDptdm5jYWxsOm1ldGFkYXRhOklORk8uRUFTX0FG',\n",
       "   u'info': {},\n",
       "   u'key': u'INFO.EAS_AF',\n",
       "   u'number': u'A',\n",
       "   u'type': u'Float',\n",
       "   u'value': u''},\n",
       "  {u'description': u'Allele frequency in the EUR populations calculated from AC and AN, in the range (0,1)',\n",
       "   u'id': u'MWtnLXAzLXN1YnNldDptdm5jYWxsOm1ldGFkYXRhOklORk8uRVVSX0FG',\n",
       "   u'info': {},\n",
       "   u'key': u'INFO.EUR_AF',\n",
       "   u'number': u'A',\n",
       "   u'type': u'Float',\n",
       "   u'value': u''},\n",
       "  {u'description': u'Allele frequency in the AFR populations calculated from AC and AN, in the range (0,1)',\n",
       "   u'id': u'MWtnLXAzLXN1YnNldDptdm5jYWxsOm1ldGFkYXRhOklORk8uQUZSX0FG',\n",
       "   u'info': {},\n",
       "   u'key': u'INFO.AFR_AF',\n",
       "   u'number': u'A',\n",
       "   u'type': u'Float',\n",
       "   u'value': u''},\n",
       "  {u'description': u'Allele frequency in the AMR populations calculated from AC and AN, in the range (0,1)',\n",
       "   u'id': u'MWtnLXAzLXN1YnNldDptdm5jYWxsOm1ldGFkYXRhOklORk8uQU1SX0FG',\n",
       "   u'info': {},\n",
       "   u'key': u'INFO.AMR_AF',\n",
       "   u'number': u'A',\n",
       "   u'type': u'Float',\n",
       "   u'value': u''},\n",
       "  {u'description': u'Allele frequency in the SAS populations calculated from AC and AN, in the range (0,1)',\n",
       "   u'id': u'MWtnLXAzLXN1YnNldDptdm5jYWxsOm1ldGFkYXRhOklORk8uU0FTX0FG',\n",
       "   u'info': {},\n",
       "   u'key': u'INFO.SAS_AF',\n",
       "   u'number': u'A',\n",
       "   u'type': u'Float',\n",
       "   u'value': u''},\n",
       "  {u'description': u'Total read depth; only low coverage data were counted towards the DP, exome data were not used',\n",
       "   u'id': u'MWtnLXAzLXN1YnNldDptdm5jYWxsOm1ldGFkYXRhOklORk8uRFA',\n",
       "   u'info': {},\n",
       "   u'key': u'INFO.DP',\n",
       "   u'number': u'1',\n",
       "   u'type': u'Integer',\n",
       "   u'value': u''},\n",
       "  {u'description': u'Ancestral Allele. Format: AA|REF|ALT|IndelType. AA: Ancestral allele, REF:Reference Allele, ALT:Alternate Allele, IndelType:Type of Indel (REF, ALT and IndelType are only defined for indels)',\n",
       "   u'id': u'MWtnLXAzLXN1YnNldDptdm5jYWxsOm1ldGFkYXRhOklORk8uQUE',\n",
       "   u'info': {},\n",
       "   u'key': u'INFO.AA',\n",
       "   u'number': u'1',\n",
       "   u'type': u'String',\n",
       "   u'value': u''},\n",
       "  {u'description': u'indicates what type of variant the line represents',\n",
       "   u'id': u'MWtnLXAzLXN1YnNldDptdm5jYWxsOm1ldGFkYXRhOklORk8uVlQ',\n",
       "   u'info': {},\n",
       "   u'key': u'INFO.VT',\n",
       "   u'number': u'.',\n",
       "   u'type': u'String',\n",
       "   u'value': u''},\n",
       "  {u'description': u'indicates whether a variant is within the exon pull down target boundaries',\n",
       "   u'id': u'MWtnLXAzLXN1YnNldDptdm5jYWxsOm1ldGFkYXRhOklORk8uRVhfVEFSR0VU',\n",
       "   u'info': {},\n",
       "   u'key': u'INFO.EX_TARGET',\n",
       "   u'number': u'0',\n",
       "   u'type': u'Flag',\n",
       "   u'value': u''},\n",
       "  {u'description': u'indicates whether a site is multi-allelic',\n",
       "   u'id': u'MWtnLXAzLXN1YnNldDptdm5jYWxsOm1ldGFkYXRhOklORk8uTVVMVElfQUxMRUxJQw',\n",
       "   u'info': {},\n",
       "   u'key': u'INFO.MULTI_ALLELIC',\n",
       "   u'number': u'0',\n",
       "   u'type': u'Flag',\n",
       "   u'value': u''}],\n",
       " u'name': u'mvncall',\n",
       " u'referenceSetId': u''}"
      ]
     },
     "execution_count": 11,
     "metadata": {},
     "output_type": "execute_result"
    }
   ],
   "source": [
    "variantSetId = variantSets[0].id\n",
    "variantSet = client.getVariantSet(variantSetId)\n",
    "variantSet.toJsonDict()"
   ]
  },
  {
   "cell_type": "markdown",
   "metadata": {},
   "source": [
    "## Search/Get Callset\n",
    "\n",
    "Callsets are a collection of genotype calls. Callsets apply to the samples within a dataset."
   ]
  },
  {
   "cell_type": "code",
   "execution_count": 12,
   "metadata": {
    "collapsed": false
   },
   "outputs": [
    {
     "name": "stdout",
     "output_type": "stream",
     "text": [
      "CallSets\n",
      "Name: HG00096\n",
      "Name: HG00533\n",
      "Name: HG00534\n"
     ]
    }
   ],
   "source": [
    "callSets = list(client.searchCallSets(variantSetId))\n",
    "print(\"CallSets\")\n",
    "for callSet in callSets:\n",
    "    print(\"Name: {}\".format(callSet.name))"
   ]
  },
  {
   "cell_type": "code",
   "execution_count": 13,
   "metadata": {
    "collapsed": false
   },
   "outputs": [
    {
     "data": {
      "text/plain": [
       "{u'created': 1453157520705,\n",
       " u'id': u'MWtnLXAzLXN1YnNldDptdm5jYWxsOkhHMDAwOTY',\n",
       " u'info': {},\n",
       " u'name': u'HG00096',\n",
       " u'sampleId': u'HG00096',\n",
       " u'updated': 1453157520705,\n",
       " u'variantSetIds': [u'MWtnLXAzLXN1YnNldDptdm5jYWxs']}"
      ]
     },
     "execution_count": 13,
     "metadata": {},
     "output_type": "execute_result"
    }
   ],
   "source": [
    "callSet = client.getCallSet(callSets[0].id)\n",
    "callSet.toJsonDict()"
   ]
  },
  {
   "cell_type": "markdown",
   "metadata": {},
   "source": [
    "## Search/Get Variants\n",
    "\n",
    "A Variant represents a change in DNA sequence relative to some reference. For example, a variant could represent a SNP or an insertion. You can think of them as a row in a VCF. Variants can be supported by many calls."
   ]
  },
  {
   "cell_type": "code",
   "execution_count": 14,
   "metadata": {
    "collapsed": false
   },
   "outputs": [
    {
     "name": "stdout",
     "output_type": "stream",
     "text": [
      "Variants\n",
      "Reference Name: 1, Start: 100648, Name: rs199608293\n",
      "Reference Name: 1, Start: 100675, Name: rs188226172\n",
      "Reference Name: 1, Start: 100714, Name: rs561694274\n",
      "Reference Name: 1, Start: 100857, Name: rs368741663\n"
     ]
    }
   ],
   "source": [
    "variants = list(client.searchVariants(variantSetId, start=100000, end=101000, referenceName = \"1\"))\n",
    "print(\"Variants\")\n",
    "for variant in variants:\n",
    "    print(\"Reference Name: {}, Start: {}, Name: {}\".format(variant.referenceName, variant.start, variant.names[0]))"
   ]
  },
  {
   "cell_type": "code",
   "execution_count": 15,
   "metadata": {
    "collapsed": false
   },
   "outputs": [
    {
     "data": {
      "text/plain": [
       "{u'alternateBases': [u'C'],\n",
       " u'calls': [{u'callSetId': u'MWtnLXAzLXN1YnNldDptdm5jYWxsOkhHMDAwOTY',\n",
       "   u'callSetName': u'HG00096',\n",
       "   u'genotype': [0, 0],\n",
       "   u'genotypeLikelihood': [],\n",
       "   u'info': {},\n",
       "   u'phaseset': u'*'},\n",
       "  {u'callSetId': u'MWtnLXAzLXN1YnNldDptdm5jYWxsOkhHMDA1MzM',\n",
       "   u'callSetName': u'HG00533',\n",
       "   u'genotype': [0, 0],\n",
       "   u'genotypeLikelihood': [],\n",
       "   u'info': {},\n",
       "   u'phaseset': u'*'},\n",
       "  {u'callSetId': u'MWtnLXAzLXN1YnNldDptdm5jYWxsOkhHMDA1MzQ',\n",
       "   u'callSetName': u'HG00534',\n",
       "   u'genotype': [0, 0],\n",
       "   u'genotypeLikelihood': [],\n",
       "   u'info': {},\n",
       "   u'phaseset': u'*'}],\n",
       " u'created': 1453157520705,\n",
       " u'end': 100649,\n",
       " u'id': u'MWtnLXAzLXN1YnNldDptdm5jYWxsOjE6MTAwNjQ4OjNjNjFiODA3MDhlNDIzYTVhMGFiNjlmNGYwZjA2N2Yx',\n",
       " u'info': {u'AA': [u'.|||'],\n",
       "  u'AC': [u'0'],\n",
       "  u'AF': [u'0.000599041988607'],\n",
       "  u'AFR_AF': [u'0.0'],\n",
       "  u'AMR_AF': [u'0.0'],\n",
       "  u'AN': [u'6'],\n",
       "  u'DP': [u'16885'],\n",
       "  u'EAS_AF': [u'0.00300000002608'],\n",
       "  u'EUR_AF': [u'0.0'],\n",
       "  u'NS': [u'2504'],\n",
       "  u'SAS_AF': [u'0.0'],\n",
       "  u'VT': [u'SNP']},\n",
       " u'names': [u'rs199608293'],\n",
       " u'referenceBases': u'G',\n",
       " u'referenceName': u'1',\n",
       " u'start': 100648,\n",
       " u'updated': 1453157520705,\n",
       " u'variantSetId': u'MWtnLXAzLXN1YnNldDptdm5jYWxs'}"
      ]
     },
     "execution_count": 15,
     "metadata": {},
     "output_type": "execute_result"
    }
   ],
   "source": [
    "variant = client.getVariant(variants[0].id)\n",
    "variant.toJsonDict()"
   ]
  },
  {
   "cell_type": "markdown",
   "metadata": {},
   "source": [
    "## Search/Get Readgroupsets\n",
    "\n",
    "A ReadGroupSet is a logical collection of ReadGroups. Typically one ReadGroupSet represents all the reads from one experimental sample."
   ]
  },
  {
   "cell_type": "code",
   "execution_count": 16,
   "metadata": {
    "collapsed": false
   },
   "outputs": [
    {
     "name": "stdout",
     "output_type": "stream",
     "text": [
      "ReadGroupSets\n",
      "Name: HG00533\n",
      "Name: HG00534\n"
     ]
    }
   ],
   "source": [
    "readGroupSets = list(client.searchReadGroupSets(dataset.id))\n",
    "print(\"ReadGroupSets\")\n",
    "for readGroup in readGroupSets:\n",
    "    print(\"Name: {}\".format(readGroup.name))"
   ]
  },
  {
   "cell_type": "code",
   "execution_count": 17,
   "metadata": {
    "collapsed": false
   },
   "outputs": [
    {
     "data": {
      "text/plain": [
       "{u'datasetId': u'MWtnLXAzLXN1YnNldA',\n",
       " u'id': u'MWtnLXAzLXN1YnNldDpIRzAwNTMz',\n",
       " u'name': u'HG00533',\n",
       " u'readGroups': [{u'created': 1456755492901,\n",
       "   u'datasetId': u'MWtnLXAzLXN1YnNldA',\n",
       "   u'description': u'SRP001293',\n",
       "   u'experiment': {u'description': u'SRP001293',\n",
       "    u'id': u'MWtnLXAzLXN1YnNldDpIRzAwNTMzOkVSUjAyMDIzNzpleHBlcmltZW50',\n",
       "    u'info': {},\n",
       "    u'instrumentDataFile': None,\n",
       "    u'instrumentModel': u'ILLUMINA',\n",
       "    u'library': u'HUMwfmREJDIAAPEI-3',\n",
       "    u'libraryLayout': None,\n",
       "    u'molecule': None,\n",
       "    u'name': None,\n",
       "    u'platformUnit': None,\n",
       "    u'recordCreateTime': u'2016-02-29T14:18:12Z',\n",
       "    u'recordUpdateTime': u'2016-02-29T14:18:12Z',\n",
       "    u'runTime': None,\n",
       "    u'selection': None,\n",
       "    u'sequencingCenter': u'BGI',\n",
       "    u'strategy': None},\n",
       "   u'id': u'MWtnLXAzLXN1YnNldDpIRzAwNTMzOkVSUjAyMDIzNw',\n",
       "   u'info': {},\n",
       "   u'name': u'ERR020237',\n",
       "   u'predictedInsertSize': 473,\n",
       "   u'programs': [{u'commandLine': u'bwa index -a bwtsw $reference_fasta',\n",
       "     u'id': u'bwa_index',\n",
       "     u'name': u'bwa',\n",
       "     u'prevProgramId': None,\n",
       "     u'version': u'0.5.9-r16'},\n",
       "    {u'commandLine': u'bwa aln -q 15 -f $sai_file $reference_fasta $fastq_file\\tPP:bwa_index',\n",
       "     u'id': u'bwa_aln_fastq',\n",
       "     u'name': u'bwa',\n",
       "     u'prevProgramId': None,\n",
       "     u'version': u'0.5.9-r16'},\n",
       "    {u'commandLine': u'bwa sampe -a 1419 -r $rg_line -f $sam_file $reference_fasta $sai_file(s) $fastq_file(s)\\tPP:bwa_aln_fastq',\n",
       "     u'id': u'bwa_sam',\n",
       "     u'name': u'bwa',\n",
       "     u'prevProgramId': None,\n",
       "     u'version': u'0.5.9-r16'},\n",
       "    {u'commandLine': u'samtools view -bSu $sam_file | samtools sort -n -o - samtools_nsort_tmp | samtools fixmate /dev/stdin /dev/stdout | samtools sort -o - samtools_csort_tmp | samtools fillmd -u - $reference_fasta > $fixed_bam_file\\tPP:bwa_sam',\n",
       "     u'id': u'sam_to_fixed_bam',\n",
       "     u'name': u'samtools',\n",
       "     u'prevProgramId': None,\n",
       "     u'version': u'0.1.17 (r973:277)'},\n",
       "    {u'commandLine': u'java $jvm_args -jar GenomeAnalysisTK.jar -T RealignerTargetCreator -R $reference_fasta -o $intervals_file -known $known_indels_file(s) \\tPP:sam_to_fixed_bam',\n",
       "     u'id': u'gatk_target_interval_creator',\n",
       "     u'name': u'GenomeAnalysisTK',\n",
       "     u'prevProgramId': None,\n",
       "     u'version': u'1.2-29-g0acaf2d'},\n",
       "    {u'commandLine': u'java $jvm_args -jar GenomeAnalysisTK.jar -T IndelRealigner -R $reference_fasta -I $bam_file -o $realigned_bam_file -targetIntervals $intervals_file -known $known_indels_file(s) -LOD 0.4 -model KNOWNS_ONLY -compress 0 --disable_bam_indexing\\tPP:gatk_target_interval_creator',\n",
       "     u'id': u'bam_realignment_around_known_indels',\n",
       "     u'name': u'GenomeAnalysisTK',\n",
       "     u'prevProgramId': None,\n",
       "     u'version': u'1.2-29-g0acaf2d'},\n",
       "    {u'commandLine': u\"java $jvm_args -jar GenomeAnalysisTK.jar -T CountCovariates -R $reference_fasta -I $bam_file -recalFile $bam_file.recal_data.csv -knownSites $known_sites_file(s) -l INFO -L '1;2;3;4;5;6;7;8;9;10;11;12;13;14;15;16;17;18;19;20;21;22;X;Y;MT' -cov ReadGroupCovariate -cov QualityScoreCovariate -cov CycleCovariate -cov DinucCovariate\\tPP:bam_realignment_around_known_indels\",\n",
       "     u'id': u'bam_count_covariates',\n",
       "     u'name': u'GenomeAnalysisTK',\n",
       "     u'prevProgramId': None,\n",
       "     u'version': u'1.2-29-g0acaf2d'},\n",
       "    {u'commandLine': u'java $jvm_args -jar GenomeAnalysisTK.jar -T TableRecalibration -R $reference_fasta -recalFile $bam_file.recal_data.csv -I $bam_file -o $recalibrated_bam_file -l INFO -compress 0 --disable_bam_indexing\\tPP:bam_count_covariates',\n",
       "     u'id': u'bam_recalibrate_quality_scores',\n",
       "     u'name': u'GenomeAnalysisTK',\n",
       "     u'prevProgramId': None,\n",
       "     u'version': u'1.2-29-g0acaf2d'},\n",
       "    {u'commandLine': u'samtools calmd -Erb $bam_file $reference_fasta > $bq_bam_file\\tPP:bam_recalibrate_quality_scores',\n",
       "     u'id': u'bam_calculate_bq',\n",
       "     u'name': u'samtools',\n",
       "     u'prevProgramId': None,\n",
       "     u'version': u'0.1.17 (r973:277)'},\n",
       "    {u'commandLine': u'java $jvm_args -jar MergeSamFiles.jar INPUT=$bam_file(s) OUTPUT=$merged_bam VALIDATION_STRINGENCY=SILENT\\tPP:bam_calculate_bq',\n",
       "     u'id': u'bam_merge',\n",
       "     u'name': u'picard',\n",
       "     u'prevProgramId': None,\n",
       "     u'version': u'1.53'},\n",
       "    {u'commandLine': u'java $jvm_args -jar MarkDuplicates.jar INPUT=$bam_file OUTPUT=$markdup_bam_file ASSUME_SORTED=TRUE METRICS_FILE=/dev/null VALIDATION_STRINGENCY=SILENT\\tPP:bam_merge',\n",
       "     u'id': u'bam_mark_duplicates',\n",
       "     u'name': u'picard',\n",
       "     u'prevProgramId': None,\n",
       "     u'version': u'1.53'},\n",
       "    {u'commandLine': u'java $jvm_args -jar MergeSamFiles.jar INPUT=$bam_file(s) OUTPUT=$merged_bam VALIDATION_STRINGENCY=SILENT\\tPP:bam_mark_duplicates',\n",
       "     u'id': u'bam_merge.1',\n",
       "     u'name': u'picard',\n",
       "     u'prevProgramId': None,\n",
       "     u'version': u'1.53'}],\n",
       "   u'referenceSetId': u'R1JDaDM4LXN1YnNldA',\n",
       "   u'sampleId': u'HG00533',\n",
       "   u'stats': {u'alignedReadCount': -1,\n",
       "    u'baseCount': None,\n",
       "    u'unalignedReadCount': -1},\n",
       "   u'updated': 1456755492901}],\n",
       " u'stats': {u'alignedReadCount': 2939,\n",
       "  u'baseCount': None,\n",
       "  u'unalignedReadCount': 30}}"
      ]
     },
     "execution_count": 17,
     "metadata": {},
     "output_type": "execute_result"
    }
   ],
   "source": [
    "readGroupSet = client.getReadGroupSet(readGroupSets[0].id)\n",
    "readGroupSet.toJsonDict()"
   ]
  },
  {
   "cell_type": "markdown",
   "metadata": {},
   "source": [
    "## Get ReadGroups\n",
    "\n",
    "A ReadGroup is a set of reads derived from one physical sequencing process."
   ]
  },
  {
   "cell_type": "code",
   "execution_count": 18,
   "metadata": {
    "collapsed": false
   },
   "outputs": [
    {
     "data": {
      "text/plain": [
       "{u'created': 1456755492901,\n",
       " u'datasetId': u'MWtnLXAzLXN1YnNldA',\n",
       " u'description': u'SRP001293',\n",
       " u'experiment': {u'description': u'SRP001293',\n",
       "  u'id': u'MWtnLXAzLXN1YnNldDpIRzAwNTMzOkVSUjAyMDIzNzpleHBlcmltZW50',\n",
       "  u'info': {},\n",
       "  u'instrumentDataFile': None,\n",
       "  u'instrumentModel': u'ILLUMINA',\n",
       "  u'library': u'HUMwfmREJDIAAPEI-3',\n",
       "  u'libraryLayout': None,\n",
       "  u'molecule': None,\n",
       "  u'name': None,\n",
       "  u'platformUnit': None,\n",
       "  u'recordCreateTime': u'2016-02-29T14:18:12Z',\n",
       "  u'recordUpdateTime': u'2016-02-29T14:18:12Z',\n",
       "  u'runTime': None,\n",
       "  u'selection': None,\n",
       "  u'sequencingCenter': u'BGI',\n",
       "  u'strategy': None},\n",
       " u'id': u'MWtnLXAzLXN1YnNldDpIRzAwNTMzOkVSUjAyMDIzNw',\n",
       " u'info': {},\n",
       " u'name': u'ERR020237',\n",
       " u'predictedInsertSize': 473,\n",
       " u'programs': [{u'commandLine': u'bwa index -a bwtsw $reference_fasta',\n",
       "   u'id': u'bwa_index',\n",
       "   u'name': u'bwa',\n",
       "   u'prevProgramId': None,\n",
       "   u'version': u'0.5.9-r16'},\n",
       "  {u'commandLine': u'bwa aln -q 15 -f $sai_file $reference_fasta $fastq_file\\tPP:bwa_index',\n",
       "   u'id': u'bwa_aln_fastq',\n",
       "   u'name': u'bwa',\n",
       "   u'prevProgramId': None,\n",
       "   u'version': u'0.5.9-r16'},\n",
       "  {u'commandLine': u'bwa sampe -a 1419 -r $rg_line -f $sam_file $reference_fasta $sai_file(s) $fastq_file(s)\\tPP:bwa_aln_fastq',\n",
       "   u'id': u'bwa_sam',\n",
       "   u'name': u'bwa',\n",
       "   u'prevProgramId': None,\n",
       "   u'version': u'0.5.9-r16'},\n",
       "  {u'commandLine': u'samtools view -bSu $sam_file | samtools sort -n -o - samtools_nsort_tmp | samtools fixmate /dev/stdin /dev/stdout | samtools sort -o - samtools_csort_tmp | samtools fillmd -u - $reference_fasta > $fixed_bam_file\\tPP:bwa_sam',\n",
       "   u'id': u'sam_to_fixed_bam',\n",
       "   u'name': u'samtools',\n",
       "   u'prevProgramId': None,\n",
       "   u'version': u'0.1.17 (r973:277)'},\n",
       "  {u'commandLine': u'java $jvm_args -jar GenomeAnalysisTK.jar -T RealignerTargetCreator -R $reference_fasta -o $intervals_file -known $known_indels_file(s) \\tPP:sam_to_fixed_bam',\n",
       "   u'id': u'gatk_target_interval_creator',\n",
       "   u'name': u'GenomeAnalysisTK',\n",
       "   u'prevProgramId': None,\n",
       "   u'version': u'1.2-29-g0acaf2d'},\n",
       "  {u'commandLine': u'java $jvm_args -jar GenomeAnalysisTK.jar -T IndelRealigner -R $reference_fasta -I $bam_file -o $realigned_bam_file -targetIntervals $intervals_file -known $known_indels_file(s) -LOD 0.4 -model KNOWNS_ONLY -compress 0 --disable_bam_indexing\\tPP:gatk_target_interval_creator',\n",
       "   u'id': u'bam_realignment_around_known_indels',\n",
       "   u'name': u'GenomeAnalysisTK',\n",
       "   u'prevProgramId': None,\n",
       "   u'version': u'1.2-29-g0acaf2d'},\n",
       "  {u'commandLine': u\"java $jvm_args -jar GenomeAnalysisTK.jar -T CountCovariates -R $reference_fasta -I $bam_file -recalFile $bam_file.recal_data.csv -knownSites $known_sites_file(s) -l INFO -L '1;2;3;4;5;6;7;8;9;10;11;12;13;14;15;16;17;18;19;20;21;22;X;Y;MT' -cov ReadGroupCovariate -cov QualityScoreCovariate -cov CycleCovariate -cov DinucCovariate\\tPP:bam_realignment_around_known_indels\",\n",
       "   u'id': u'bam_count_covariates',\n",
       "   u'name': u'GenomeAnalysisTK',\n",
       "   u'prevProgramId': None,\n",
       "   u'version': u'1.2-29-g0acaf2d'},\n",
       "  {u'commandLine': u'java $jvm_args -jar GenomeAnalysisTK.jar -T TableRecalibration -R $reference_fasta -recalFile $bam_file.recal_data.csv -I $bam_file -o $recalibrated_bam_file -l INFO -compress 0 --disable_bam_indexing\\tPP:bam_count_covariates',\n",
       "   u'id': u'bam_recalibrate_quality_scores',\n",
       "   u'name': u'GenomeAnalysisTK',\n",
       "   u'prevProgramId': None,\n",
       "   u'version': u'1.2-29-g0acaf2d'},\n",
       "  {u'commandLine': u'samtools calmd -Erb $bam_file $reference_fasta > $bq_bam_file\\tPP:bam_recalibrate_quality_scores',\n",
       "   u'id': u'bam_calculate_bq',\n",
       "   u'name': u'samtools',\n",
       "   u'prevProgramId': None,\n",
       "   u'version': u'0.1.17 (r973:277)'},\n",
       "  {u'commandLine': u'java $jvm_args -jar MergeSamFiles.jar INPUT=$bam_file(s) OUTPUT=$merged_bam VALIDATION_STRINGENCY=SILENT\\tPP:bam_calculate_bq',\n",
       "   u'id': u'bam_merge',\n",
       "   u'name': u'picard',\n",
       "   u'prevProgramId': None,\n",
       "   u'version': u'1.53'},\n",
       "  {u'commandLine': u'java $jvm_args -jar MarkDuplicates.jar INPUT=$bam_file OUTPUT=$markdup_bam_file ASSUME_SORTED=TRUE METRICS_FILE=/dev/null VALIDATION_STRINGENCY=SILENT\\tPP:bam_merge',\n",
       "   u'id': u'bam_mark_duplicates',\n",
       "   u'name': u'picard',\n",
       "   u'prevProgramId': None,\n",
       "   u'version': u'1.53'},\n",
       "  {u'commandLine': u'java $jvm_args -jar MergeSamFiles.jar INPUT=$bam_file(s) OUTPUT=$merged_bam VALIDATION_STRINGENCY=SILENT\\tPP:bam_mark_duplicates',\n",
       "   u'id': u'bam_merge.1',\n",
       "   u'name': u'picard',\n",
       "   u'prevProgramId': None,\n",
       "   u'version': u'1.53'}],\n",
       " u'referenceSetId': u'R1JDaDM4LXN1YnNldA',\n",
       " u'sampleId': u'HG00533',\n",
       " u'stats': {u'alignedReadCount': -1,\n",
       "  u'baseCount': None,\n",
       "  u'unalignedReadCount': -1},\n",
       " u'updated': 1456755492901}"
      ]
     },
     "execution_count": 18,
     "metadata": {},
     "output_type": "execute_result"
    }
   ],
   "source": [
    "readGroup = client.getReadGroup(readGroupSet.readGroups[0].id)\n",
    "readGroup.toJsonDict()"
   ]
  },
  {
   "cell_type": "markdown",
   "metadata": {},
   "source": [
    "## Get Reads\n",
    "\n",
    "Each read alignment describes an alignment with additional information about the fragment and the read. A read alignment object is equivalent to a line in a SAM file.\n",
    "\n",
    "Since there are often many reads, we won't iterate over all of them. Instead we can summerize the query and then output the dictionary representing the last one."
   ]
  },
  {
   "cell_type": "code",
   "execution_count": 19,
   "metadata": {
    "collapsed": false
   },
   "outputs": [
    {
     "name": "stdout",
     "output_type": "stream",
     "text": [
      "Read Alignments\n",
      "984 reads in Readgroups: SRP001293 on Reference: 2\n"
     ]
    }
   ],
   "source": [
    "readGroupIds = [readGroup.id for readGroup in readGroupSet.readGroups]\n",
    "readGroupDescriptions = [readGroup.description for readGroup in readGroupSet.readGroups]\n",
    "reads = client.searchReads(readGroupIds, reference.id)\n",
    "print(\"Read Alignments\")\n",
    "# The server paginates reads by default; here we iterate over the reads \n",
    "# generate to make the appropriate requests to the server\n",
    "count = 0\n",
    "for read in reads:\n",
    "    count += 1\n",
    "print(\"{} reads in Readgroups: {} on Reference: {}\".format(\n",
    "      count, ', '.join(readGroupDescriptions), reference.name))"
   ]
  },
  {
   "cell_type": "code",
   "execution_count": 20,
   "metadata": {
    "collapsed": false
   },
   "outputs": [
    {
     "data": {
      "text/plain": [
       "{u'alignedQuality': [31,\n",
       "  31,\n",
       "  33,\n",
       "  27,\n",
       "  36,\n",
       "  36,\n",
       "  38,\n",
       "  37,\n",
       "  37,\n",
       "  35,\n",
       "  35,\n",
       "  37,\n",
       "  37,\n",
       "  30,\n",
       "  35,\n",
       "  39,\n",
       "  39,\n",
       "  40,\n",
       "  39,\n",
       "  39,\n",
       "  41,\n",
       "  37,\n",
       "  41,\n",
       "  40,\n",
       "  40,\n",
       "  40,\n",
       "  40,\n",
       "  36,\n",
       "  39,\n",
       "  33,\n",
       "  40,\n",
       "  39,\n",
       "  39,\n",
       "  38,\n",
       "  29,\n",
       "  42,\n",
       "  38,\n",
       "  37,\n",
       "  36,\n",
       "  29,\n",
       "  31,\n",
       "  32,\n",
       "  34,\n",
       "  30,\n",
       "  34,\n",
       "  34,\n",
       "  39,\n",
       "  34,\n",
       "  36,\n",
       "  39,\n",
       "  16,\n",
       "  35,\n",
       "  35,\n",
       "  33,\n",
       "  32,\n",
       "  39,\n",
       "  35,\n",
       "  35,\n",
       "  29,\n",
       "  27,\n",
       "  41,\n",
       "  37,\n",
       "  37,\n",
       "  40,\n",
       "  39,\n",
       "  41,\n",
       "  31,\n",
       "  31,\n",
       "  38,\n",
       "  30,\n",
       "  38,\n",
       "  31,\n",
       "  38,\n",
       "  34,\n",
       "  31,\n",
       "  23,\n",
       "  16,\n",
       "  15,\n",
       "  27,\n",
       "  25,\n",
       "  36,\n",
       "  2,\n",
       "  2,\n",
       "  2,\n",
       "  2,\n",
       "  2,\n",
       "  2,\n",
       "  2,\n",
       "  2,\n",
       "  2,\n",
       "  2],\n",
       " u'alignedSequence': u'GGTTCCAAGGTGGGTGCATAACTGAGGCTCATGCCAGGTGCCACACAGCACTCCCTTGGCCCCCTAATGGACTTCGGGACAGGCAAGGGCC',\n",
       " u'alignment': {u'cigar': [{u'operation': u'ALIGNMENT_MATCH',\n",
       "    u'operationLength': 82,\n",
       "    u'referenceSequence': None},\n",
       "   {u'operation': u'CLIP_SOFT',\n",
       "    u'operationLength': 9,\n",
       "    u'referenceSequence': None}],\n",
       "  u'mappingQuality': 60,\n",
       "  u'position': {u'position': 27497,\n",
       "   u'referenceName': u'2',\n",
       "   u'strand': u'POS_STRAND'}},\n",
       " u'duplicateFragment': False,\n",
       " u'failedVendorQualityChecks': False,\n",
       " u'fragmentLength': 470,\n",
       " u'fragmentName': u'ERR020237.18651656',\n",
       " u'id': u'MWtnLXAzLXN1YnNldDpIRzAwNTMzOkVSUjAyMDIzNzpFUlIwMjAyMzcuMTg2NTE2NTY',\n",
       " u'info': {u'AM': [u'37'],\n",
       "  u'BQ': [u'@@@@@@@@@@@@@@@@@@@@@@@@@@@@@@@@@@@@@@@@@@@@@@@@@@@@@@@@@@@@@@@@@@@@@@@@@@@@@@@@@@@@@@@@@@@'],\n",
       "  u'MD': [u'82'],\n",
       "  u'MQ': [u'60'],\n",
       "  u'NM': [u'0'],\n",
       "  u'RG': [u'ERR020237'],\n",
       "  u'SM': [u'37'],\n",
       "  u'X0': [u'1'],\n",
       "  u'X1': [u'0'],\n",
       "  u'XC': [u'82'],\n",
       "  u'XT': [u'U']},\n",
       " u'nextMatePosition': {u'position': 27877,\n",
       "  u'referenceName': u'2',\n",
       "  u'strand': u'NEG_STRAND'},\n",
       " u'numberReads': 2,\n",
       " u'properPlacement': True,\n",
       " u'readGroupId': u'MWtnLXAzLXN1YnNldDpIRzAwNTMzOkVSUjAyMDIzNw',\n",
       " u'readNumber': 0,\n",
       " u'secondaryAlignment': False,\n",
       " u'supplementaryAlignment': False}"
      ]
     },
     "execution_count": 20,
     "metadata": {},
     "output_type": "execute_result"
    }
   ],
   "source": [
    "read.toJsonDict()"
   ]
  }
 ],
 "metadata": {
  "kernelspec": {
   "display_name": "Python 2",
   "language": "python",
   "name": "python2"
  },
  "language_info": {
   "codemirror_mode": {
    "name": "ipython",
    "version": 2
   },
   "file_extension": ".py",
   "mimetype": "text/x-python",
   "name": "python",
   "nbconvert_exporter": "python",
   "pygments_lexer": "ipython2",
   "version": "2.7.6"
  }
 },
 "nbformat": 4,
 "nbformat_minor": 0
}
